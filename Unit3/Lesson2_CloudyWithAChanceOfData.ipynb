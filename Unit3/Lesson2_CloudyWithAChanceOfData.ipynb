{
 "cells": [
  {
   "cell_type": "code",
   "execution_count": 1,
   "metadata": {
    "collapsed": true
   },
   "outputs": [],
   "source": [
    "import requests\n",
    "cities = { \"Atlanta\": '33.762909,-84.422675',\n",
    "            \"Austin\": '30.303936,-97.754355',\n",
    "            \"Boston\": '42.331960,-71.020173',\n",
    "            \"Chicago\": '41.837551,-87.681844',\n",
    "            \"Cleveland\": '41.478462,-81.679435'\n",
    "        }"
   ]
  },
  {
   "cell_type": "code",
   "execution_count": 2,
   "metadata": {
    "collapsed": false
   },
   "outputs": [
    {
     "name": "stdout",
     "output_type": "stream",
     "text": [
      "<type 'str'>\n"
     ]
    }
   ],
   "source": [
    "print type(cities['Atlanta']) \n",
    "city1 = cities['Atlanta']\n",
    "url = \"https://api.forecast.io/forecast/b3d63e6828bdf7067803e9682207342a/33.762909,-84.422675,2015-05-15T05:00:00\"\n",
    "r = requests.get(url)"
   ]
  },
  {
   "cell_type": "code",
   "execution_count": 4,
   "metadata": {
    "collapsed": false,
    "scrolled": true
   },
   "outputs": [
    {
     "name": "stdout",
     "output_type": "stream",
     "text": [
      "{u'hourly': {u'icon': u'partly-cloudy-day', u'data': [{u'temperature': 74.6, u'icon': u'clear-night', u'dewPoint': 58.21, u'humidity': 0.57, u'visibility': 9.58, u'summary': u'Clear', u'apparentTemperature': 74.6, u'pressure': 1022.95, u'windSpeed': 8.3, u'cloudCover': 0.21, u'time': 1431662400, u'windBearing': 100, u'precipIntensity': 0, u'precipProbability': 0}, {u'temperature': 73.6, u'icon': u'clear-night', u'dewPoint': 58.35, u'humidity': 0.59, u'visibility': 9.58, u'summary': u'Clear', u'apparentTemperature': 73.6, u'pressure': 1022.9, u'windSpeed': 7.27, u'cloudCover': 0, u'time': 1431666000, u'windBearing': 126, u'precipIntensity': 0, u'precipProbability': 0}, {u'temperature': 72.22, u'icon': u'clear-night', u'dewPoint': 58.5, u'humidity': 0.62, u'visibility': 9.58, u'summary': u'Clear', u'apparentTemperature': 72.22, u'pressure': 1023.06, u'windSpeed': 4.55, u'cloudCover': 0.23, u'time': 1431669600, u'windBearing': 112, u'precipIntensity': 0, u'precipProbability': 0}, {u'temperature': 71.4, u'icon': u'clear-night', u'dewPoint': 59.48, u'humidity': 0.66, u'visibility': 9.58, u'summary': u'Clear', u'apparentTemperature': 71.4, u'pressure': 1022.92, u'windSpeed': 3.82, u'cloudCover': 0.15, u'time': 1431673200, u'windBearing': 127, u'precipIntensity': 0, u'precipProbability': 0}, {u'temperature': 70.4, u'icon': u'clear-night', u'dewPoint': 59.81, u'humidity': 0.69, u'visibility': 9.58, u'summary': u'Clear', u'apparentTemperature': 70.4, u'pressure': 1022.44, u'windSpeed': 6.38, u'cloudCover': 0.17, u'time': 1431676800, u'windBearing': 125, u'precipIntensity': 0, u'precipProbability': 0}, {u'temperature': 69.4, u'icon': u'clear-night', u'dewPoint': 60.34, u'humidity': 0.73, u'visibility': 9.58, u'summary': u'Clear', u'apparentTemperature': 69.4, u'pressure': 1022.6, u'windSpeed': 5.6, u'cloudCover': 0.15, u'time': 1431680400, u'windBearing': 120, u'precipIntensity': 0, u'precipProbability': 0}, {u'temperature': 68.58, u'icon': u'partly-cloudy-night', u'dewPoint': 60.32, u'humidity': 0.75, u'visibility': 9.58, u'summary': u'Partly Cloudy', u'apparentTemperature': 68.58, u'pressure': 1023.08, u'windSpeed': 4.57, u'cloudCover': 0.31, u'time': 1431684000, u'windBearing': 110, u'precipIntensity': 0, u'precipProbability': 0}, {u'temperature': 68.17, u'icon': u'clear-day', u'dewPoint': 61.39, u'humidity': 0.79, u'visibility': 9.17, u'summary': u'Clear', u'apparentTemperature': 68.17, u'pressure': 1023.66, u'windSpeed': 6.59, u'time': 1431687600, u'windBearing': 114, u'precipIntensity': 0, u'precipProbability': 0}, {u'temperature': 68.16, u'icon': u'partly-cloudy-day', u'dewPoint': 61.57, u'humidity': 0.8, u'visibility': 8.81, u'summary': u'Mostly Cloudy', u'apparentTemperature': 68.16, u'pressure': 1024.31, u'windSpeed': 9, u'cloudCover': 0.75, u'time': 1431691200, u'windBearing': 110, u'precipIntensity': 0, u'precipProbability': 0}, {u'temperature': 70.59, u'icon': u'clear-day', u'dewPoint': 62.84, u'humidity': 0.77, u'visibility': 9.06, u'summary': u'Clear', u'apparentTemperature': 70.59, u'pressure': 1024.68, u'windSpeed': 7.49, u'time': 1431694800, u'windBearing': 142, u'precipIntensity': 0, u'precipProbability': 0}, {u'temperature': 72.07, u'icon': u'clear-day', u'dewPoint': 62.95, u'humidity': 0.73, u'visibility': 9.25, u'summary': u'Clear', u'apparentTemperature': 72.07, u'pressure': 1024.9, u'windSpeed': 8.04, u'time': 1431698400, u'windBearing': 137, u'precipIntensity': 0, u'precipProbability': 0}, {u'temperature': 74.24, u'icon': u'partly-cloudy-day', u'dewPoint': 62.05, u'humidity': 0.66, u'visibility': 9.44, u'summary': u'Partly Cloudy', u'apparentTemperature': 74.24, u'pressure': 1024.76, u'windSpeed': 8, u'cloudCover': 0.31, u'time': 1431702000, u'windBearing': 163, u'precipIntensity': 0, u'precipProbability': 0}, {u'temperature': 76.78, u'icon': u'partly-cloudy-day', u'dewPoint': 62.23, u'humidity': 0.61, u'visibility': 9.44, u'summary': u'Partly Cloudy', u'apparentTemperature': 76.78, u'pressure': 1024.77, u'windSpeed': 7.13, u'cloudCover': 0.31, u'time': 1431705600, u'windBearing': 149, u'precipIntensity': 0, u'precipProbability': 0}, {u'temperature': 78.58, u'icon': u'clear-day', u'dewPoint': 61.9, u'humidity': 0.57, u'visibility': 9.44, u'summary': u'Clear', u'apparentTemperature': 78.58, u'pressure': 1024.47, u'windSpeed': 10.82, u'time': 1431709200, u'windBearing': 192, u'precipIntensity': 0, u'precipProbability': 0}, {u'temperature': 78.77, u'icon': u'partly-cloudy-day', u'dewPoint': 62.03, u'humidity': 0.57, u'visibility': 9.62, u'summary': u'Mostly Cloudy', u'apparentTemperature': 78.77, u'pressure': 1023.71, u'windSpeed': 7.22, u'cloudCover': 0.75, u'time': 1431712800, u'windBearing': 163, u'precipIntensity': 0, u'precipProbability': 0}, {u'temperature': 78.07, u'icon': u'clear-day', u'dewPoint': 61.32, u'humidity': 0.56, u'visibility': 9.44, u'summary': u'Clear', u'apparentTemperature': 78.07, u'pressure': 1023.3, u'windSpeed': 8.14, u'time': 1431716400, u'windBearing': 178, u'precipIntensity': 0, u'precipProbability': 0}, {u'temperature': 78.43, u'icon': u'clear-day', u'dewPoint': 61.29, u'humidity': 0.56, u'visibility': 9.44, u'summary': u'Clear', u'apparentTemperature': 78.43, u'pressure': 1022.36, u'windSpeed': 7.13, u'time': 1431720000, u'windBearing': 161, u'precipIntensity': 0, u'precipProbability': 0}, {u'temperature': 78.84, u'icon': u'clear-day', u'dewPoint': 60.23, u'humidity': 0.53, u'visibility': 9.44, u'summary': u'Clear', u'apparentTemperature': 78.84, u'pressure': 1021.75, u'windSpeed': 9.09, u'time': 1431723600, u'windBearing': 140, u'precipIntensity': 0, u'precipProbability': 0}, {u'temperature': 79.01, u'icon': u'clear-day', u'dewPoint': 61.33, u'humidity': 0.55, u'visibility': 9.44, u'summary': u'Clear', u'apparentTemperature': 79.01, u'pressure': 1021.49, u'windSpeed': 8.88, u'cloudCover': 0.14, u'time': 1431727200, u'windBearing': 129, u'precipIntensity': 0, u'precipProbability': 0}, {u'temperature': 78.78, u'icon': u'clear-day', u'dewPoint': 60.03, u'humidity': 0.53, u'visibility': 9.58, u'summary': u'Clear', u'apparentTemperature': 78.78, u'pressure': 1021.34, u'windSpeed': 9.17, u'cloudCover': 0, u'time': 1431730800, u'windBearing': 151, u'precipIntensity': 0, u'precipProbability': 0}, {u'temperature': 76.99, u'icon': u'clear-day', u'dewPoint': 60.51, u'humidity': 0.57, u'visibility': 9.44, u'summary': u'Clear', u'apparentTemperature': 76.99, u'pressure': 1021.64, u'windSpeed': 7.81, u'cloudCover': 0.15, u'time': 1431734400, u'windBearing': 145, u'precipIntensity': 0, u'precipProbability': 0}, {u'temperature': 74.6, u'icon': u'clear-night', u'dewPoint': 60.91, u'humidity': 0.62, u'visibility': 9.62, u'summary': u'Clear', u'apparentTemperature': 74.6, u'pressure': 1021.78, u'windSpeed': 5.39, u'cloudCover': 0.12, u'time': 1431738000, u'windBearing': 147, u'precipIntensity': 0, u'precipProbability': 0}, {u'temperature': 71.47, u'icon': u'clear-night', u'dewPoint': 61.95, u'humidity': 0.72, u'visibility': 9.62, u'summary': u'Clear', u'apparentTemperature': 71.47, u'pressure': 1022.53, u'windSpeed': 2.75, u'cloudCover': 0.24, u'time': 1431741600, u'windBearing': 78, u'precipIntensity': 0, u'precipProbability': 0}, {u'temperature': 69.26, u'icon': u'clear-night', u'dewPoint': 61.63, u'humidity': 0.77, u'visibility': 9.62, u'summary': u'Clear', u'apparentTemperature': 69.26, u'pressure': 1022.86, u'windSpeed': 3.65, u'cloudCover': 0.12, u'time': 1431745200, u'windBearing': 105, u'precipIntensity': 0, u'precipProbability': 0}], u'summary': u'Partly cloudy starting in the morning, continuing until afternoon.'}, u'currently': {u'temperature': 69.4, u'icon': u'clear-night', u'dewPoint': 60.34, u'humidity': 0.73, u'visibility': 9.58, u'summary': u'Clear', u'apparentTemperature': 69.4, u'pressure': 1022.6, u'windSpeed': 5.6, u'cloudCover': 0.15, u'time': 1431680400, u'windBearing': 120, u'precipIntensity': 0, u'precipProbability': 0}, u'longitude': -84.422675, u'flags': {u'units': u'us', u'sources': [u'isd'], u'isd-stations': [u'722190-13874', u'722195-03888', u'722196-53863', u'722270-13864', u'747812-63813']}, u'daily': {u'data': [{u'apparentTemperatureMinTime': 1431691200, u'cloudCover': 0.24, u'temperatureMin': 68.16, u'summary': u'Partly cloudy until afternoon.', u'dewPoint': 60.88, u'apparentTemperatureMax': 79.01, u'temperatureMax': 79.01, u'temperatureMaxTime': 1431727200, u'windBearing': 139, u'moonPhase': 0.91, u'visibility': 9.46, u'sunsetTime': 1431736352, u'pressure': 1023.09, u'precipProbability': 0, u'apparentTemperatureMin': 68.16, u'precipIntensityMax': 0, u'icon': u'partly-cloudy-day', u'apparentTemperatureMaxTime': 1431727200, u'humidity': 0.65, u'windSpeed': 6.29, u'time': 1431662400, u'precipIntensity': 0, u'sunriseTime': 1431686298, u'temperatureMinTime': 1431691200}]}, u'offset': -4, u'latitude': 33.762909, u'timezone': u'America/New_York'}\n"
     ]
    }
   ],
   "source": [
    "print r.json()"
   ]
  },
  {
   "cell_type": "code",
   "execution_count": 5,
   "metadata": {
    "collapsed": false
   },
   "outputs": [
    {
     "name": "stdout",
     "output_type": "stream",
     "text": [
      "2015-04-30 10:16:22.367000\n",
      "30 days, 0:00:00\n"
     ]
    }
   ],
   "source": [
    "import datetime \n",
    "start_date = datetime.datetime.now() - datetime.timedelta(days=30)\n",
    "print start_date\n",
    "print datetime.timedelta(days=30)"
   ]
  },
  {
   "cell_type": "code",
   "execution_count": 6,
   "metadata": {
    "collapsed": false
   },
   "outputs": [
    {
     "data": {
      "text/plain": [
       "[u'hourly',\n",
       " u'currently',\n",
       " u'longitude',\n",
       " u'flags',\n",
       " u'daily',\n",
       " u'offset',\n",
       " u'latitude',\n",
       " u'timezone']"
      ]
     },
     "execution_count": 6,
     "metadata": {},
     "output_type": "execute_result"
    }
   ],
   "source": [
    "r.json().keys()"
   ]
  },
  {
   "cell_type": "code",
   "execution_count": 7,
   "metadata": {
    "collapsed": false
   },
   "outputs": [
    {
     "data": {
      "text/plain": [
       "3"
      ]
     },
     "execution_count": 7,
     "metadata": {},
     "output_type": "execute_result"
    }
   ],
   "source": [
    "len(r.json()['hourly'])"
   ]
  },
  {
   "cell_type": "code",
   "execution_count": 8,
   "metadata": {
    "collapsed": true
   },
   "outputs": [],
   "source": [
    "hourly_list = []\n",
    "for data in r.json()['hourly']:\n",
    "    if data not in hourly_list:\n",
    "        hourly_list.append(data)"
   ]
  },
  {
   "cell_type": "code",
   "execution_count": 9,
   "metadata": {
    "collapsed": false
   },
   "outputs": [
    {
     "name": "stdout",
     "output_type": "stream",
     "text": [
      "[u'icon', u'data', u'summary']\n"
     ]
    }
   ],
   "source": [
    "print hourly_list"
   ]
  },
  {
   "cell_type": "code",
   "execution_count": 18,
   "metadata": {
    "collapsed": false
   },
   "outputs": [
    {
     "data": {
      "text/plain": [
       "dict"
      ]
     },
     "execution_count": 18,
     "metadata": {},
     "output_type": "execute_result"
    }
   ],
   "source": [
    "type(r.json()['hourly'])"
   ]
  },
  {
   "cell_type": "code",
   "execution_count": 55,
   "metadata": {
    "collapsed": false
   },
   "outputs": [
    {
     "data": {
      "text/plain": [
       "{u'apparentTemperatureMax': 79.01,\n",
       " u'apparentTemperatureMaxTime': 1431727200,\n",
       " u'apparentTemperatureMin': 68.16,\n",
       " u'apparentTemperatureMinTime': 1431691200,\n",
       " u'cloudCover': 0.24,\n",
       " u'dewPoint': 60.88,\n",
       " u'humidity': 0.65,\n",
       " u'icon': u'partly-cloudy-day',\n",
       " u'moonPhase': 0.91,\n",
       " u'precipIntensity': 0,\n",
       " u'precipIntensityMax': 0,\n",
       " u'precipProbability': 0,\n",
       " u'pressure': 1023.09,\n",
       " u'summary': u'Partly cloudy until afternoon.',\n",
       " u'sunriseTime': 1431686298,\n",
       " u'sunsetTime': 1431736352,\n",
       " u'temperatureMax': 79.01,\n",
       " u'temperatureMaxTime': 1431727200,\n",
       " u'temperatureMin': 68.16,\n",
       " u'temperatureMinTime': 1431691200,\n",
       " u'time': 1431662400,\n",
       " u'visibility': 9.46,\n",
       " u'windBearing': 139,\n",
       " u'windSpeed': 6.29}"
      ]
     },
     "execution_count": 55,
     "metadata": {},
     "output_type": "execute_result"
    }
   ],
   "source": [
    "r.json()['daily']['data'][0]"
   ]
  },
  {
   "cell_type": "code",
   "execution_count": 33,
   "metadata": {
    "collapsed": false
   },
   "outputs": [
    {
     "data": {
      "text/plain": [
       "68.16"
      ]
     },
     "execution_count": 33,
     "metadata": {},
     "output_type": "execute_result"
    }
   ],
   "source": [
    "r.json()['daily']['data'][0]['apparentTemperatureMin']"
   ]
  },
  {
   "cell_type": "code",
   "execution_count": 34,
   "metadata": {
    "collapsed": true
   },
   "outputs": [],
   "source": [
    "import requests\n",
    "import sqlite3 as lite\n",
    "import datetime\n",
    "\n",
    "api_key = \"b3d63e6828bdf7067803e9682207342a\"\n",
    "url = \"https://api.forecast.io/forecast/\" +api_key\n",
    "\n",
    "cities = { \"Atlanta\": '33.762909,-84.422675',\n",
    "            \"Austin\": '30.303936,-97.754355',\n",
    "            \"Boston\": '42.331960,-71.020173',\n",
    "            \"Chicago\": '41.837551,-87.681844',\n",
    "            \"Cleveland\": '41.478462,-81.679435'\n",
    "        }\n",
    "end_date = datetime.datetime.now()"
   ]
  },
  {
   "cell_type": "code",
   "execution_count": 80,
   "metadata": {
    "collapsed": false
   },
   "outputs": [],
   "source": [
    "## load the database\n",
    "con = lite.connect('weather.db')\n",
    "cur = con.cursor()\n",
    "\n",
    "with con:\n",
    "    cur.execute(\"DROP TABLE IF EXISTS daily_temp\")\n",
    "    cur.execute(\"CREATE TABLE daily_temp (date_reading TEXT, Atlanta INT, Austin INT, Boston INT, Chicago INT, Cleveland INT)\")\n"
   ]
  },
  {
   "cell_type": "code",
   "execution_count": 75,
   "metadata": {
    "collapsed": false
   },
   "outputs": [
    {
     "name": "stdout",
     "output_type": "stream",
     "text": [
      "2015-04-30 10:31:03.404000\n"
     ]
    }
   ],
   "source": [
    "query_date = end_date - datetime.timedelta(days =30) ## first value being processed\n",
    "print query_date\n"
   ]
  },
  {
   "cell_type": "code",
   "execution_count": 97,
   "metadata": {
    "collapsed": false
   },
   "outputs": [
    {
     "name": "stdout",
     "output_type": "stream",
     "text": [
      "CREATE TABLE daily_temp (date_reading TEXT, Boston INT,Atlanta INT,Cleveland INT,Austin INT,Chicago INT)\n"
     ]
    }
   ],
   "source": [
    "city_keys = cities.keys()\n",
    "city_columns = [ str(x) + ' INT' for x in city_keys]\n",
    "test123 =\"CREATE TABLE daily_temp (date_reading TEXT, \" + \",\".join(city_columns) + \")\"\n",
    "print test123\n"
   ]
  },
  {
   "cell_type": "code",
   "execution_count": 86,
   "metadata": {
    "collapsed": false
   },
   "outputs": [],
   "source": [
    "with con:\n",
    "    while query_date <= end_date:\n",
    "        cur.execute(\"INSERT INTO daily_temp (date_reading) VALUES (?)\", ((query_date),))\n",
    "        query_date += datetime.timedelta(days =1)"
   ]
  },
  {
   "cell_type": "code",
   "execution_count": 90,
   "metadata": {
    "collapsed": false
   },
   "outputs": [
    {
     "name": "stdout",
     "output_type": "stream",
     "text": [
      "<type 'str'>\n"
     ]
    }
   ],
   "source": [
    "print type(str(query_date))"
   ]
  },
  {
   "cell_type": "code",
   "execution_count": 78,
   "metadata": {
    "collapsed": false,
    "scrolled": true
   },
   "outputs": [
    {
     "name": "stdout",
     "output_type": "stream",
     "text": [
      "           date_reading Atlanta Austin Boston Chicago Cleveland\n",
      "0   2015-04-30T10:31:03    None   None   None    None      None\n",
      "1   2015-05-01T10:31:03    None   None   None    None      None\n",
      "2   2015-05-02T10:31:03    None   None   None    None      None\n",
      "3   2015-05-03T10:31:03    None   None   None    None      None\n",
      "4   2015-05-04T10:31:03    None   None   None    None      None\n",
      "5   2015-05-05T10:31:03    None   None   None    None      None\n",
      "6   2015-05-06T10:31:03    None   None   None    None      None\n",
      "7   2015-05-07T10:31:03    None   None   None    None      None\n",
      "8   2015-05-08T10:31:03    None   None   None    None      None\n",
      "9   2015-05-09T10:31:03    None   None   None    None      None\n",
      "10  2015-05-10T10:31:03    None   None   None    None      None\n",
      "11  2015-05-11T10:31:03    None   None   None    None      None\n",
      "12  2015-05-12T10:31:03    None   None   None    None      None\n",
      "13  2015-05-13T10:31:03    None   None   None    None      None\n",
      "14  2015-05-14T10:31:03    None   None   None    None      None\n",
      "15  2015-05-15T10:31:03    None   None   None    None      None\n",
      "16  2015-05-16T10:31:03    None   None   None    None      None\n",
      "17  2015-05-17T10:31:03    None   None   None    None      None\n",
      "18  2015-05-18T10:31:03    None   None   None    None      None\n",
      "19  2015-05-19T10:31:03    None   None   None    None      None\n",
      "20  2015-05-20T10:31:03    None   None   None    None      None\n",
      "21  2015-05-21T10:31:03    None   None   None    None      None\n",
      "22  2015-05-22T10:31:03    None   None   None    None      None\n",
      "23  2015-05-23T10:31:03    None   None   None    None      None\n",
      "24  2015-05-24T10:31:03    None   None   None    None      None\n",
      "25  2015-05-25T10:31:03    None   None   None    None      None\n",
      "26  2015-05-26T10:31:03    None   None   None    None      None\n",
      "27  2015-05-27T10:31:03    None   None   None    None      None\n",
      "28  2015-05-28T10:31:03    None   None   None    None      None\n",
      "29  2015-05-29T10:31:03    None   None   None    None      None\n",
      "30  2015-05-30T10:31:03    None   None   None    None      None\n"
     ]
    }
   ],
   "source": [
    "import pandas as pd\n",
    "with con:\n",
    "    cur.execute(\"SELECT * FROM daily_temp\")\n",
    "\n",
    "    rows = cur.fetchall()\n",
    "    cols = [desc[0] for desc in cur.description]\n",
    "    df = pd.DataFrame(rows, columns=cols)\n",
    "\n",
    "print df"
   ]
  },
  {
   "cell_type": "code",
   "execution_count": 102,
   "metadata": {
    "collapsed": false,
    "scrolled": true
   },
   "outputs": [
    {
     "name": "stdout",
     "output_type": "stream",
     "text": [
      "2015-04-30T10:31:03\n",
      "UPDATE daily_temp SET Boston=53.83 WHERE date_reading =2015-04-30T10:31:03\n"
     ]
    },
    {
     "ename": "OperationalError",
     "evalue": "unrecognized token: \"30T10\"",
     "output_type": "error",
     "traceback": [
      "\u001b[1;31m---------------------------------------------------------------------------\u001b[0m",
      "\u001b[1;31mOperationalError\u001b[0m                          Traceback (most recent call last)",
      "\u001b[1;32m<ipython-input-102-96cee08390e4>\u001b[0m in \u001b[0;36m<module>\u001b[1;34m()\u001b[0m\n\u001b[0;32m      9\u001b[0m             \u001b[0mstring\u001b[0m \u001b[1;33m=\u001b[0m\u001b[1;34m'UPDATE daily_temp SET '\u001b[0m \u001b[1;33m+\u001b[0m \u001b[0mk\u001b[0m \u001b[1;33m+\u001b[0m \u001b[1;34m'='\u001b[0m \u001b[1;33m+\u001b[0m \u001b[0mstr\u001b[0m\u001b[1;33m(\u001b[0m\u001b[0mmax_temp\u001b[0m\u001b[1;33m)\u001b[0m \u001b[1;33m+\u001b[0m \u001b[1;34m' WHERE date_reading ='\u001b[0m \u001b[1;33m+\u001b[0m \u001b[0mstr\u001b[0m\u001b[1;33m(\u001b[0m\u001b[0mquery_date\u001b[0m\u001b[1;33m.\u001b[0m\u001b[0mstrftime\u001b[0m\u001b[1;33m(\u001b[0m\u001b[1;34m'%Y-%m-%dT%H:%M:%S'\u001b[0m\u001b[1;33m)\u001b[0m\u001b[1;33m)\u001b[0m\u001b[1;33m\u001b[0m\u001b[0m\n\u001b[0;32m     10\u001b[0m             \u001b[1;32mprint\u001b[0m \u001b[0mstring\u001b[0m\u001b[1;33m\u001b[0m\u001b[0m\n\u001b[1;32m---> 11\u001b[1;33m             \u001b[0mcur\u001b[0m\u001b[1;33m.\u001b[0m\u001b[0mexecute\u001b[0m\u001b[1;33m(\u001b[0m\u001b[1;34m'UPDATE daily_temp SET '\u001b[0m \u001b[1;33m+\u001b[0m \u001b[0mk\u001b[0m \u001b[1;33m+\u001b[0m \u001b[1;34m'='\u001b[0m \u001b[1;33m+\u001b[0m \u001b[0mstr\u001b[0m\u001b[1;33m(\u001b[0m\u001b[0mmax_temp\u001b[0m\u001b[1;33m)\u001b[0m \u001b[1;33m+\u001b[0m \u001b[1;34m' WHERE date_reading ='\u001b[0m \u001b[1;33m+\u001b[0m \u001b[0mstr\u001b[0m\u001b[1;33m(\u001b[0m\u001b[0mquery_date\u001b[0m\u001b[1;33m.\u001b[0m\u001b[0mstrftime\u001b[0m\u001b[1;33m(\u001b[0m\u001b[1;34m'%Y-%m-%dT%H:%M:%S'\u001b[0m\u001b[1;33m)\u001b[0m\u001b[1;33m)\u001b[0m\u001b[1;33m)\u001b[0m\u001b[1;33m\u001b[0m\u001b[0m\n\u001b[0m\u001b[0;32m     12\u001b[0m         \u001b[0mquery_date\u001b[0m \u001b[1;33m+=\u001b[0m \u001b[0mdatetime\u001b[0m\u001b[1;33m.\u001b[0m\u001b[0mtimedelta\u001b[0m\u001b[1;33m(\u001b[0m\u001b[0mdays\u001b[0m \u001b[1;33m=\u001b[0m\u001b[1;36m1\u001b[0m\u001b[1;33m)\u001b[0m\u001b[1;33m\u001b[0m\u001b[0m\n\u001b[0;32m     13\u001b[0m \u001b[0mcon\u001b[0m\u001b[1;33m.\u001b[0m\u001b[0mclose\u001b[0m\u001b[1;33m(\u001b[0m\u001b[1;33m)\u001b[0m\u001b[1;33m\u001b[0m\u001b[0m\n",
      "\u001b[1;31mOperationalError\u001b[0m: unrecognized token: \"30T10\""
     ]
    }
   ],
   "source": [
    "for k,v in cities.iteritems():\n",
    "    query_date = end_date - datetime.timedelta(days =30) ## first value being processed\n",
    "    while query_date <= end_date:\n",
    "        url2 = (url +'/' + v + ','+query_date.strftime('%Y-%m-%dT%H:%M:%S'))\n",
    "        r = requests.get(url2)\n",
    "        max_temp = r.json()['daily']['data'][0]['temperatureMax']\n",
    "        with con:\n",
    "            print query_date.strftime('%Y-%m-%dT%H:%M:%S')\n",
    "            string ='UPDATE daily_temp SET ' + k + '=' + str(max_temp) + ' WHERE date_reading =' + str(query_date.strftime('%Y-%m-%dT%H:%M:%S'))\n",
    "            print string\n",
    "            cur.execute('UPDATE daily_temp SET ' + k + '=' + str(max_temp) + ' WHERE date_reading =' + str(query_date.strftime('%Y-%m-%dT%H:%M:%S')))\n",
    "        query_date += datetime.timedelta(days =1)\n",
    "con.close()"
   ]
  },
  {
   "cell_type": "code",
   "execution_count": 104,
   "metadata": {
    "collapsed": false
   },
   "outputs": [
    {
     "name": "stdout",
     "output_type": "stream",
     "text": [
      "2015-04-30\n"
     ]
    }
   ],
   "source": [
    "print datetime.datetime.date(query_date)"
   ]
  },
  {
   "cell_type": "code",
   "execution_count": 105,
   "metadata": {
    "collapsed": true
   },
   "outputs": [],
   "source": [
    "end_date = datetime.datetime.date(datetime.datetime.now())\n",
    "query_date = end_date - datetime.timedelta(days =5)"
   ]
  },
  {
   "cell_type": "code",
   "execution_count": 106,
   "metadata": {
    "collapsed": false
   },
   "outputs": [
    {
     "name": "stdout",
     "output_type": "stream",
     "text": [
      "2015-05-30\n",
      "2015-05-25\n"
     ]
    }
   ],
   "source": [
    "print end_date\n",
    "print query_date"
   ]
  },
  {
   "cell_type": "code",
   "execution_count": null,
   "metadata": {
    "collapsed": true
   },
   "outputs": [],
   "source": []
  }
 ],
 "metadata": {
  "kernelspec": {
   "display_name": "Python 2",
   "language": "python",
   "name": "python2"
  },
  "language_info": {
   "codemirror_mode": {
    "name": "ipython",
    "version": 2
   },
   "file_extension": ".py",
   "mimetype": "text/x-python",
   "name": "python",
   "nbconvert_exporter": "python",
   "pygments_lexer": "ipython2",
   "version": "2.7.9"
  }
 },
 "nbformat": 4,
 "nbformat_minor": 0
}
