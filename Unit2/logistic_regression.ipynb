{
 "cells": [
  {
   "cell_type": "code",
   "execution_count": 2,
   "metadata": {
    "collapsed": true
   },
   "outputs": [],
   "source": [
    "import pandas as pd \n",
    "import matplotlib.pyplot as plt\n",
    "import statsmodels.api as sm\n",
    "import numpy as np\n",
    "import math\n",
    "\n",
    "loansData = pd.read_csv('https://spark-public.s3.amazonaws.com/dataanalysis/loansData.csv')\n",
    "loansData.dropna(inplace=True)"
   ]
  },
  {
   "cell_type": "code",
   "execution_count": 3,
   "metadata": {
    "collapsed": false,
    "scrolled": true
   },
   "outputs": [
    {
     "name": "stdout",
     "output_type": "stream",
     "text": [
      "       Amount.Requested  Amount.Funded.By.Investors Interest.Rate Loan.Length  \\\n",
      "81174             20000                       20000         8.90%   36 months   \n",
      "99592             19200                       19200        12.12%   36 months   \n",
      "80059             35000                       35000        21.98%   60 months   \n",
      "15825             10000                        9975         9.99%   36 months   \n",
      "33182             12000                       12000        11.71%   36 months   \n",
      "\n",
      "             Loan.Purpose Debt.To.Income.Ratio State Home.Ownership  \\\n",
      "81174  debt_consolidation               14.90%    SC       MORTGAGE   \n",
      "99592  debt_consolidation               28.36%    TX       MORTGAGE   \n",
      "80059  debt_consolidation               23.81%    CA       MORTGAGE   \n",
      "15825  debt_consolidation               14.30%    KS       MORTGAGE   \n",
      "33182         credit_card               18.78%    NJ           RENT   \n",
      "\n",
      "       Monthly.Income FICO.Range  Open.CREDIT.Lines  Revolving.CREDIT.Balance  \\\n",
      "81174         6541.67    735-739                 14                     14272   \n",
      "99592         4583.33    715-719                 12                     11140   \n",
      "80059        11500.00    690-694                 14                     21977   \n",
      "15825         3833.33    695-699                 10                      9346   \n",
      "33182         3195.00    695-699                 11                     14469   \n",
      "\n",
      "       Inquiries.in.the.Last.6.Months Employment.Length  \n",
      "81174                               2          < 1 year  \n",
      "99592                               1           2 years  \n",
      "80059                               1           2 years  \n",
      "15825                               0           5 years  \n",
      "33182                               0           9 years  \n"
     ]
    }
   ],
   "source": [
    "print loansData.head()"
   ]
  },
  {
   "cell_type": "code",
   "execution_count": 4,
   "metadata": {
    "collapsed": true
   },
   "outputs": [],
   "source": [
    "cleanInterestRate = loansData['Interest.Rate'].map(lambda x: round(float(x.rstrip('%')) / 100, 4))\n",
    "type(cleanInterestRate)\n",
    "loansData['Interest.Rate']= cleanInterestRate"
   ]
  },
  {
   "cell_type": "code",
   "execution_count": 5,
   "metadata": {
    "collapsed": true
   },
   "outputs": [],
   "source": [
    "cleanFICORange = loansData['FICO.Range'].map(lambda x: int(str(x).split('-')[0]))\n",
    "type(cleanFICORange)\n",
    "loansData['FICO.Range']= cleanFICORange"
   ]
  },
  {
   "cell_type": "code",
   "execution_count": 6,
   "metadata": {
    "collapsed": true
   },
   "outputs": [],
   "source": [
    "cleanAmountRequested = loansData['Loan.Length'].map(lambda x: int( str(x.rstrip(' months')) ))\n",
    "type(cleanAmountRequested)\n",
    "loansData['Loan.Length']= cleanAmountRequested"
   ]
  },
  {
   "cell_type": "code",
   "execution_count": 7,
   "metadata": {
    "collapsed": true
   },
   "outputs": [],
   "source": [
    "loansData['IR_TF'] = loansData['Interest.Rate'].map(lambda x: 0 if (x<0.12) else 1)"
   ]
  },
  {
   "cell_type": "code",
   "execution_count": 8,
   "metadata": {
    "collapsed": false
   },
   "outputs": [
    {
     "name": "stdout",
     "output_type": "stream",
     "text": [
      "Optimization terminated successfully.\n",
      "         Current function value: 0.319276\n",
      "         Iterations 8\n",
      "intercept           60.171952\n",
      "Amount.Requested     0.000174\n",
      "FICO.Range          -0.087480\n",
      "dtype: float64\n"
     ]
    }
   ],
   "source": [
    "loansData['intercept'] = 1\n",
    "ind_vars = ['intercept','Amount.Requested', 'FICO.Range']\n",
    "\n",
    "logit = sm.Logit(loansData['IR_TF'], loansData[ind_vars])\n",
    "\n",
    "result = logit.fit()\n",
    "coeff = result.params\n",
    "print coeff"
   ]
  },
  {
   "cell_type": "code",
   "execution_count": 9,
   "metadata": {
    "collapsed": false
   },
   "outputs": [],
   "source": [
    "def logistic_function( FicoScore,LoanAmount):\n",
    "    p = 1/(1 + math.exp( coeff[0] + (coeff[1]*LoanAmount) + (coeff[2]*FicoScore) ) )\n",
    "    return p"
   ]
  },
  {
   "cell_type": "code",
   "execution_count": 10,
   "metadata": {
    "collapsed": false
   },
   "outputs": [
    {
     "name": "stdout",
     "output_type": "stream",
     "text": [
      "0.745904602215\n"
     ]
    }
   ],
   "source": [
    "print logistic_function(720,10000)"
   ]
  },
  {
   "cell_type": "code",
   "execution_count": 16,
   "metadata": {
    "collapsed": false
   },
   "outputs": [
    {
     "name": "stdout",
     "output_type": "stream",
     "text": [
      "       Amount.Requested  Amount.Funded.By.Investors  Interest.Rate  \\\n",
      "IR_TF                                                                \n",
      "0          10503.888889                10097.047758       0.089759   \n",
      "1          13666.379310                13264.659025       0.157584   \n",
      "\n",
      "       Loan.Length  Monthly.Income  FICO.Range  Open.CREDIT.Lines  \\\n",
      "IR_TF                                                               \n",
      "0        38.327273     5821.118343   734.79798           9.775758   \n",
      "1        43.193634     5595.976267   686.86008          10.272546   \n",
      "\n",
      "       Revolving.CREDIT.Balance  Inquiries.in.the.Last.6.Months  intercept  \\\n",
      "IR_TF                                                                        \n",
      "0                  14932.715152                        0.694949          1   \n",
      "1                  15449.285146                        1.045093          1   \n",
      "\n",
      "       logistic_5  \n",
      "IR_TF              \n",
      "0        0.751871  \n",
      "1        0.162897  \n"
     ]
    }
   ],
   "source": [
    "for index,row in loansData.iterrows():\n",
    "    loansData.loc[index,'logistic_5'] = logistic_function(row['FICO.Range'],row['Amount.Requested'])\n",
    "    #print row['IR_TF'], logistic_function(row['FICO.Range'],row['Amount.Requested'])\n",
    "#print loansData.head()   \n",
    "\n",
    "print loansData.groupby(['IR_TF']).mean()"
   ]
  },
  {
   "cell_type": "code",
   "execution_count": 57,
   "metadata": {
    "collapsed": false
   },
   "outputs": [
    {
     "name": "stdout",
     "output_type": "stream",
     "text": [
      "       Amount.Requested  Amount.Funded.By.Investors  Interest.Rate  \\\n",
      "81174             20000                       20000         0.0890   \n",
      "99592             19200                       19200         0.1212   \n",
      "80059             35000                       35000         0.2198   \n",
      "15825             10000                        9975         0.0999   \n",
      "33182             12000                       12000         0.1171   \n",
      "\n",
      "       Loan.Length        Loan.Purpose Debt.To.Income.Ratio State  \\\n",
      "81174           36  debt_consolidation               14.90%    SC   \n",
      "99592           36  debt_consolidation               28.36%    TX   \n",
      "80059           60  debt_consolidation               23.81%    CA   \n",
      "15825           36  debt_consolidation               14.30%    KS   \n",
      "33182           36         credit_card               18.78%    NJ   \n",
      "\n",
      "      Home.Ownership  Monthly.Income  FICO.Range  Open.CREDIT.Lines  \\\n",
      "81174       MORTGAGE         6541.67         735                 14   \n",
      "99592       MORTGAGE         4583.33         715                 12   \n",
      "80059       MORTGAGE        11500.00         690                 14   \n",
      "15825       MORTGAGE         3833.33         695                 10   \n",
      "33182           RENT         3195.00         695                 11   \n",
      "\n",
      "       Revolving.CREDIT.Balance  Inquiries.in.the.Last.6.Months  \\\n",
      "81174                     14272                               2   \n",
      "99592                     11140                               1   \n",
      "80059                     21977                               1   \n",
      "15825                      9346                               0   \n",
      "33182                     14469                               0   \n",
      "\n",
      "      Employment.Length  IR_TF  intercept  logistic  logistic1  logistic2  \n",
      "81174          < 1 year      0          1  0.042151   0.042151   0.042151  \n",
      "99592           2 years      1          1  0.042151   0.042151   0.042151  \n",
      "80059           2 years      1          1  0.042151   0.042151   0.042151  \n",
      "15825           5 years      0          1  0.042151   0.042151   0.042151  \n",
      "33182           9 years      0          1  0.042151   0.042151   0.042151  \n"
     ]
    }
   ],
   "source": [
    "temp = loansData\n",
    "\n",
    "#temp['logistic1'] = temp['IR_TF'].map(lambda x: logistic_function(x['FICO.Range'],x['Amount.Requested']))\n",
    "#print temp\n",
    "\n",
    "for index,row in loansData.iterrows():\n",
    "    temp['logistic2'] = logistic_function(row['FICO.Range'],row['Amount.Requested'])\n",
    "    \n",
    "print temp.head()"
   ]
  },
  {
   "cell_type": "code",
   "execution_count": 44,
   "metadata": {
    "collapsed": false
   },
   "outputs": [
    {
     "name": "stdout",
     "output_type": "stream",
     "text": [
      "       Amount.Requested  Amount.Funded.By.Investors  Interest.Rate  \\\n",
      "IR_TF                                                                \n",
      "0          10503.888889                10097.047758       0.089759   \n",
      "1          13666.379310                13264.659025       0.157584   \n",
      "\n",
      "       Loan.Length  Monthly.Income  FICO.Range  Open.CREDIT.Lines  \\\n",
      "IR_TF                                                               \n",
      "0        38.327273     5821.118343   734.79798           9.775758   \n",
      "1        43.193634     5595.976267   686.86008          10.272546   \n",
      "\n",
      "       Revolving.CREDIT.Balance  Inquiries.in.the.Last.6.Months  intercept  \\\n",
      "IR_TF                                                                        \n",
      "0                  14932.715152                        0.694949          1   \n",
      "1                  15449.285146                        1.045093          1   \n",
      "\n",
      "       logistic  logistic1  \n",
      "IR_TF                       \n",
      "0      0.042151   0.042151  \n",
      "1      0.042151   0.042151  \n"
     ]
    }
   ],
   "source": [
    "temp1 = temp.groupby('IR_TF')\n",
    "print temp1.mean()"
   ]
  },
  {
   "cell_type": "code",
   "execution_count": null,
   "metadata": {
    "collapsed": true
   },
   "outputs": [],
   "source": []
  }
 ],
 "metadata": {
  "kernelspec": {
   "display_name": "Python 2",
   "language": "python",
   "name": "python2"
  },
  "language_info": {
   "codemirror_mode": {
    "name": "ipython",
    "version": 2
   },
   "file_extension": ".py",
   "mimetype": "text/x-python",
   "name": "python",
   "nbconvert_exporter": "python",
   "pygments_lexer": "ipython2",
   "version": "2.7.9"
  }
 },
 "nbformat": 4,
 "nbformat_minor": 0
}
